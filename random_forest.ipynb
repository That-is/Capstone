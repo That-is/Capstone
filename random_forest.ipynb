{
 "cells": [
  {
   "cell_type": "code",
   "execution_count": 16,
   "metadata": {},
   "outputs": [],
   "source": [
    "from sklearn.model_selection import GridSearchCV\n",
    "from sklearn.ensemble import RandomForestRegressor\n",
    "from sklearn.ensemble import RandomForestClassifier\n",
    "from pandas import Series, DataFrame\n",
    "from sklearn.model_selection import train_test_split\n",
    "import pandas as pd\n",
    "import numpy as np\n",
    "import matplotlib.pyplot as plt\n",
    "from sklearn import metrics"
   ]
  },
  {
   "cell_type": "code",
   "execution_count": 18,
   "metadata": {},
   "outputs": [],
   "source": [
    "data = pd.read_csv('/Users/liuyang/Desktop/High_07.csv')\n",
    "data1 = pd.read_csv('/Users/liuyang/Desktop/High_08.csv')\n",
    "data2 = pd.read_csv('/Users/liuyang/Desktop/High_06.csv')"
   ]
  },
  {
   "cell_type": "code",
   "execution_count": 19,
   "metadata": {},
   "outputs": [],
   "source": [
    "final_data = pd.concat([data,data1,data2], ignore_index = True)"
   ]
  },
  {
   "cell_type": "code",
   "execution_count": 20,
   "metadata": {},
   "outputs": [],
   "source": [
    "def inf_removal(data_06):\n",
    "  data_06['15_avg_duration'] = data_06['15_avg_duration'].replace([np.inf, -np.inf],np.nan)\n",
    "  data_06['15_avg_duration'].fillna(0)\n",
    "  data_06['15_avg_price'] = data_06['15_avg_price'].replace([np.inf, -np.inf],np.nan)\n",
    "  data_06['15_avg_price'].fillna(0)\n",
    "  return data_06"
   ]
  },
  {
   "cell_type": "code",
   "execution_count": 21,
   "metadata": {},
   "outputs": [],
   "source": [
    "cleaned_data = inf_removal(final_data)"
   ]
  },
  {
   "cell_type": "code",
   "execution_count": 22,
   "metadata": {},
   "outputs": [],
   "source": [
    "def labels_train_extraction(data_06):\n",
    "  labels = data_06['15_demand']\n",
    "  dataset = data_06[['weekday', 'hour', 'minute', 'day','LocationID', 'longitude', 'latitude']]\n",
    "  return labels, dataset"
   ]
  },
  {
   "cell_type": "code",
   "execution_count": 23,
   "metadata": {},
   "outputs": [],
   "source": [
    "labels, dataset = labels_train_extraction(cleaned_data)"
   ]
  },
  {
   "cell_type": "code",
   "execution_count": 24,
   "metadata": {},
   "outputs": [],
   "source": [
    "x_train, x_test, y_train, y_test = train_test_split(dataset, labels, test_size = 0.2)"
   ]
  },
  {
   "cell_type": "code",
   "execution_count": 25,
   "metadata": {},
   "outputs": [],
   "source": [
    "rf_model = RandomForestRegressor(n_estimators = 20, criterion = 'mse', bootstrap = True, min_samples_leaf = 1)"
   ]
  },
  {
   "cell_type": "code",
   "execution_count": 26,
   "metadata": {},
   "outputs": [
    {
     "data": {
      "text/plain": [
       "RandomForestRegressor(bootstrap=True, criterion='mse', max_depth=None,\n",
       "                      max_features='auto', max_leaf_nodes=None,\n",
       "                      min_impurity_decrease=0.0, min_impurity_split=None,\n",
       "                      min_samples_leaf=1, min_samples_split=2,\n",
       "                      min_weight_fraction_leaf=0.0, n_estimators=20,\n",
       "                      n_jobs=None, oob_score=False, random_state=None,\n",
       "                      verbose=0, warm_start=False)"
      ]
     },
     "execution_count": 26,
     "metadata": {},
     "output_type": "execute_result"
    }
   ],
   "source": [
    "rf_model.fit(x_train,y_train)"
   ]
  },
  {
   "cell_type": "code",
   "execution_count": 27,
   "metadata": {},
   "outputs": [
    {
     "name": "stdout",
     "output_type": "stream",
     "text": [
      " 1) hour                           0.514877\n",
      " 2) weekday                        0.123796\n",
      " 3) LocationID                     0.093624\n",
      " 4) longitude                      0.087557\n",
      " 5) day                            0.084120\n",
      " 6) latitude                       0.053871\n",
      " 7) minute                         0.042155\n"
     ]
    }
   ],
   "source": [
    "feat_labels = dataset.columns[0:]\n",
    "importances = rf_model.feature_importances_\n",
    "indices = np.argsort(importances)[::-1]\n",
    "for f in range(x_train.shape[1]):\n",
    "    print(\"%2d) %-*s %f\" % (f + 1, 30, feat_labels[indices[f]], importances[indices[f]]))"
   ]
  },
  {
   "cell_type": "code",
   "execution_count": 28,
   "metadata": {},
   "outputs": [],
   "source": [
    "result = rf_model.predict(x_test)"
   ]
  },
  {
   "cell_type": "code",
   "execution_count": 29,
   "metadata": {},
   "outputs": [
    {
     "name": "stdout",
     "output_type": "stream",
     "text": [
      "1.0001947102066853\n"
     ]
    }
   ],
   "source": [
    "def evaluation_methods(predict_value, true_value):\n",
    "  Differences = list()\n",
    "  for i, j in zip(predict_value, true_value):\n",
    "    a = abs(i-j)\n",
    "    Differences.append(a)\n",
    "  relative_accuracy = np.sum(result)/np.sum(true_value)\n",
    "  return relative_accuracy\n",
    "result_final = evaluation_methods(result,y_test)\n",
    "print(result_final)"
   ]
  },
  {
   "cell_type": "code",
   "execution_count": 30,
   "metadata": {},
   "outputs": [
    {
     "name": "stdout",
     "output_type": "stream",
     "text": [
      "Mean squared_error is 9.632806593424739\n",
      " Mean Absolute error is 2.1760635963877593\n"
     ]
    }
   ],
   "source": [
    "MAE = metrics.mean_absolute_error(y_test, result)\n",
    "MSE = metrics.mean_squared_error(y_test,result)\n",
    "print(f'Mean squared_error is {MSE}\\n Mean Absolute error is {MAE}')"
   ]
  },
  {
   "cell_type": "code",
   "execution_count": 123,
   "metadata": {},
   "outputs": [],
   "source": [
    "visualize = pd.DataFrame(abs(result-y_test))"
   ]
  },
  {
   "cell_type": "code",
   "execution_count": 139,
   "metadata": {},
   "outputs": [],
   "source": [
    "test_index = visualize[visualize['15_demand']>5].index"
   ]
  },
  {
   "cell_type": "code",
   "execution_count": 157,
   "metadata": {},
   "outputs": [
    {
     "data": {
      "text/html": [
       "<div>\n",
       "<style scoped>\n",
       "    .dataframe tbody tr th:only-of-type {\n",
       "        vertical-align: middle;\n",
       "    }\n",
       "\n",
       "    .dataframe tbody tr th {\n",
       "        vertical-align: top;\n",
       "    }\n",
       "\n",
       "    .dataframe thead th {\n",
       "        text-align: right;\n",
       "    }\n",
       "</style>\n",
       "<table border=\"1\" class=\"dataframe\">\n",
       "  <thead>\n",
       "    <tr style=\"text-align: right;\">\n",
       "      <th></th>\n",
       "      <th>15_demand</th>\n",
       "    </tr>\n",
       "  </thead>\n",
       "  <tbody>\n",
       "    <tr>\n",
       "      <td>433976</td>\n",
       "      <td>55.250</td>\n",
       "    </tr>\n",
       "    <tr>\n",
       "      <td>41835</td>\n",
       "      <td>66.550</td>\n",
       "    </tr>\n",
       "    <tr>\n",
       "      <td>204303</td>\n",
       "      <td>58.250</td>\n",
       "    </tr>\n",
       "    <tr>\n",
       "      <td>173895</td>\n",
       "      <td>53.750</td>\n",
       "    </tr>\n",
       "    <tr>\n",
       "      <td>129495</td>\n",
       "      <td>83.425</td>\n",
       "    </tr>\n",
       "    <tr>\n",
       "      <td>...</td>\n",
       "      <td>...</td>\n",
       "    </tr>\n",
       "    <tr>\n",
       "      <td>234412</td>\n",
       "      <td>61.475</td>\n",
       "    </tr>\n",
       "    <tr>\n",
       "      <td>283370</td>\n",
       "      <td>56.975</td>\n",
       "    </tr>\n",
       "    <tr>\n",
       "      <td>369850</td>\n",
       "      <td>62.450</td>\n",
       "    </tr>\n",
       "    <tr>\n",
       "      <td>221517</td>\n",
       "      <td>57.575</td>\n",
       "    </tr>\n",
       "    <tr>\n",
       "      <td>463594</td>\n",
       "      <td>54.325</td>\n",
       "    </tr>\n",
       "  </tbody>\n",
       "</table>\n",
       "<p>168 rows × 1 columns</p>\n",
       "</div>"
      ],
      "text/plain": [
       "        15_demand\n",
       "433976     55.250\n",
       "41835      66.550\n",
       "204303     58.250\n",
       "173895     53.750\n",
       "129495     83.425\n",
       "...           ...\n",
       "234412     61.475\n",
       "283370     56.975\n",
       "369850     62.450\n",
       "221517     57.575\n",
       "463594     54.325\n",
       "\n",
       "[168 rows x 1 columns]"
      ]
     },
     "execution_count": 157,
     "metadata": {},
     "output_type": "execute_result"
    }
   ],
   "source": [
    "visualize[visualize['15_demand']>50]"
   ]
  }
 ],
 "metadata": {
  "kernelspec": {
   "display_name": "Python 3",
   "language": "python",
   "name": "python3"
  },
  "language_info": {
   "codemirror_mode": {
    "name": "ipython",
    "version": 3
   },
   "file_extension": ".py",
   "mimetype": "text/x-python",
   "name": "python",
   "nbconvert_exporter": "python",
   "pygments_lexer": "ipython3",
   "version": "3.7.4"
  }
 },
 "nbformat": 4,
 "nbformat_minor": 2
}
