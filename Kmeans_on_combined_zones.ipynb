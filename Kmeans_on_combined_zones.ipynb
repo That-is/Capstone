{
  "nbformat": 4,
  "nbformat_minor": 0,
  "metadata": {
    "colab": {
      "name": "Kmeans on combined zones.ipynb",
      "provenance": []
    },
    "kernelspec": {
      "name": "python3",
      "display_name": "Python 3"
    }
  },
  "cells": [
    {
      "cell_type": "code",
      "metadata": {
        "id": "a1Zl_Tmk8fFO",
        "colab_type": "code",
        "colab": {}
      },
      "source": [
        "import pandas as pd\n",
        "import matplotlib.pyplot as plt"
      ],
      "execution_count": 0,
      "outputs": []
    },
    {
      "cell_type": "code",
      "metadata": {
        "id": "P9MXqrV0vx_L",
        "colab_type": "code",
        "colab": {}
      },
      "source": [
        "Brooklyn = pd.DataFrame(cs[cs['borough'] == 'Brooklyn']['LocationID'])\n",
        "Manhattan  = pd.DataFrame(cs[cs['borough'] == 'Manhattan']['LocationID'])\n",
        "Queens  = pd.DataFrame(cs[cs['borough'] == 'Queens']['LocationID'])"
      ],
      "execution_count": 0,
      "outputs": []
    },
    {
      "cell_type": "code",
      "metadata": {
        "id": "i29BTOj2Dv7L",
        "colab_type": "code",
        "colab": {}
      },
      "source": [
        "#combined_zones\n",
        "Manhattan_Queens = pd.concat([Manhattan,Queens], ignore_index= True)\n",
        "Manhattan_Brooklyn = pd.concat([Manhattan,Brooklyn], ignore_index= True)\n",
        "Manhattan_Queens_Brooklyn = pd.concat([Manhattan,Brooklyn,Queens], ignore_index = True)\n",
        "Brooklyn_Queens = pd.concat([Queens,Brooklyn],ignore_index= True)"
      ],
      "execution_count": 0,
      "outputs": []
    },
    {
      "cell_type": "code",
      "metadata": {
        "id": "DmKz6JauFXTm",
        "colab_type": "code",
        "colab": {}
      },
      "source": [
        "# demand in each combined zones\n",
        "def transfer(name):\n",
        "  a = [7,8]\n",
        "  data_07 = pd.read_csv('/content/drive/capstone dataset/cleaned_2018_06.csv')\n",
        "  values_07 = pd.DataFrame(data_07['PULocationID'].value_counts())\n",
        "  values_07.reset_index(drop=False, inplace=True)\n",
        "  new = pd.merge(name,values_07, how='left', right_on='index', left_on='LocationID')\n",
        "  for i in a:\n",
        "    data_07 = pd.read_csv(f'/content/drive/capstone dataset/cleaned_2018_0{i}.csv')\n",
        "    values_07 = pd.DataFrame(data_07['PULocationID'].value_counts())\n",
        "    values_07.reset_index(drop=False, inplace=True)\n",
        "    result = pd.merge(name,values_07, how='left', right_on='index', left_on='LocationID')\n",
        "    final = pd.concat([new,result],ignore_index=True)\n",
        "  final.dropna(inplace = True)\n",
        "  exam = pd.DataFrame(final.groupby('LocationID')['PULocationID'].sum())\n",
        "  exam.reset_index(drop=False, inplace = True)\n",
        "  exam.rename(columns = {'PULocationID':'Counts'}, inplace=True)\n",
        "  return exam"
      ],
      "execution_count": 0,
      "outputs": []
    },
    {
      "cell_type": "code",
      "metadata": {
        "id": "ZuF8t_FOHNHW",
        "colab_type": "code",
        "colab": {}
      },
      "source": [
        "data = transfer(Manhattan_Queens_Brooklyn)\n",
        "data1 = transfer(Manhattan_Queens)\n",
        "data2 = transfer(Manhattan_Brooklyn)\n",
        "data3 = transfer(Brooklyn_Queens)\n",
        "data4 = transfer(Manhattan)"
      ],
      "execution_count": 0,
      "outputs": []
    },
    {
      "cell_type": "code",
      "metadata": {
        "id": "HRwWpjrFKzd5",
        "colab_type": "code",
        "colab": {}
      },
      "source": [
        "data1.to_csv('/content/drive/capstone dataset/Manhattan_Queens.csv')\n",
        "data2.to_csv('/content/drive/capstone dataset/Manhattan_Brooklyn.csv')\n",
        "data3.to_csv('/content/drive/capstone dataset/Brooklyn_Queens.csv')\n",
        "data4.to_csv('/content/drive/capstone dataset/Manhattan.csv')"
      ],
      "execution_count": 0,
      "outputs": []
    },
    {
      "cell_type": "code",
      "metadata": {
        "id": "UCiLt3D0ZULV",
        "colab_type": "code",
        "colab": {
          "base_uri": "https://localhost:8080/",
          "height": 279
        },
        "outputId": "9c029ac4-c05f-447f-f32b-86938c890238"
      },
      "source": [
        "#try k-means algorithm\n",
        "from sklearn.cluster import KMeans\n",
        "kmeans = KMeans(n_clusters=3, random_state=0).fit(data)\n",
        "data['label']=kmeans.labels_\n",
        "data['label'].value_counts().plot(kind='bar')"
      ],
      "execution_count": 319,
      "outputs": [
        {
          "output_type": "execute_result",
          "data": {
            "text/plain": [
              "<matplotlib.axes._subplots.AxesSubplot at 0x7f990229b668>"
            ]
          },
          "metadata": {
            "tags": []
          },
          "execution_count": 319
        },
        {
          "output_type": "display_data",
          "data": {
            "image/png": "[encoded data removed]",
            "text/plain": [
              "<Figure size 432x288 with 1 Axes>"
            ]
          },
          "metadata": {
            "tags": []
          }
        }
      ]
    },
    {
      "cell_type": "code",
      "metadata": {
        "id": "sU_n3ICoqxvW",
        "colab_type": "code",
        "colab": {
          "base_uri": "https://localhost:8080/",
          "height": 68
        },
        "outputId": "26b070bc-85d2-4fd9-be22-ae667fe1e07b"
      },
      "source": [
        "#get the range and size of each cluster\n",
        "cluster_distribution = data['label'].value_counts()\n",
        "a = [0,1,2]\n",
        "for j in a:\n",
        "  min_num = data[data['label'] == j]['Counts'].min()\n",
        "  max_num = data[data['label'] == j]['Counts'].max()\n",
        "  print(f'Size of cluster is {cluster_distribution[j]}, cluster {j} is from {min_num} to {max_num}')\n"
      ],
      "execution_count": 347,
      "outputs": [
        {
          "output_type": "stream",
          "text": [
            "Size of cluster is 18, cluster 0 is from 300990.0 to 479555.0\n",
            "Size of cluster is 152, cluster 1 is from 3.0 to 91401.0\n",
            "Size of cluster is 25, cluster 2 is from 109030.0 to 269413.0\n"
          ],
          "name": "stdout"
        }
      ]
    },
    {
      "cell_type": "code",
      "metadata": {
        "id": "CPCEdE6tsE8G",
        "colab_type": "code",
        "colab": {
          "base_uri": "https://localhost:8080/",
          "height": 34
        },
        "outputId": "1889aeab-9898-42ce-a789-5a5e4a244fb4"
      },
      "source": [
        "\n",
        "cluster_distribution[1]\n",
        "cluster_distribution"
      ],
      "execution_count": 345,
      "outputs": [
        {
          "output_type": "execute_result",
          "data": {
            "text/plain": [
              "152"
            ]
          },
          "metadata": {
            "tags": []
          },
          "execution_count": 345
        }
      ]
    }
  ]
}