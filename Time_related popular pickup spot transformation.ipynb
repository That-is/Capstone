{
 "cells": [
  {
   "cell_type": "code",
   "execution_count": 2,
   "metadata": {},
   "outputs": [],
   "source": [
    "from pyspark import SparkConf, SparkContext\n",
    "conf = SparkConf().setMaster('local').setAppName('countbydate')\n",
    "# year [0:4]\n",
    "# month [5]\n",
    "# day [7:9]\n",
    "# hour [10:12]\n",
    "# minute [13:15]\n",
    "# second [16:18]\n",
    "# AM or PM [19:21]\n",
    "#transfer 12 hours to 24 hours format\n",
    "def tranfer_pm(input_data):\n",
    "    result = input_data.split(' ')\n",
    "    date = result[0]\n",
    "    time = result[1]\n",
    "    tz = result[2]\n",
    "    time_details = time.split(':')\n",
    "    if(tz == 'PM'):\n",
    "        time_details[0] = int(time_details[0])+12\n",
    "        if (time_details[0] == 24):\n",
    "            time_details[0] -= 24\n",
    "        new_time = str(time_details[0]) + ':' + time_details[1] + ':' + time_details[2]\n",
    "    else:\n",
    "        new_time = time\n",
    "    return date + ' ' + new_time"
   ]
  },
  {
   "cell_type": "code",
   "execution_count": 585,
   "metadata": {},
   "outputs": [],
   "source": [
    "from pandas import DataFrame, Series\n",
    "import pandas as pd"
   ]
  },
  {
   "cell_type": "code",
   "execution_count": 586,
   "metadata": {},
   "outputs": [],
   "source": [
    "data = pd.read_csv('/Users/liuyang/Desktop/yellow_tripdata_2018-06.csv')"
   ]
  },
  {
   "cell_type": "code",
   "execution_count": 588,
   "metadata": {},
   "outputs": [
    {
     "data": {
      "text/html": [
       "<div>\n",
       "<style scoped>\n",
       "    .dataframe tbody tr th:only-of-type {\n",
       "        vertical-align: middle;\n",
       "    }\n",
       "\n",
       "    .dataframe tbody tr th {\n",
       "        vertical-align: top;\n",
       "    }\n",
       "\n",
       "    .dataframe thead th {\n",
       "        text-align: right;\n",
       "    }\n",
       "</style>\n",
       "<table border=\"1\" class=\"dataframe\">\n",
       "  <thead>\n",
       "    <tr style=\"text-align: right;\">\n",
       "      <th></th>\n",
       "      <th>tpep_pickup_datetime</th>\n",
       "      <th>PULocationID</th>\n",
       "    </tr>\n",
       "  </thead>\n",
       "  <tbody>\n",
       "    <tr>\n",
       "      <td>534</td>\n",
       "      <td>2018-06-01 00:00:00</td>\n",
       "      <td>237</td>\n",
       "    </tr>\n",
       "    <tr>\n",
       "      <td>3300</td>\n",
       "      <td>2018-06-01 00:00:00</td>\n",
       "      <td>237</td>\n",
       "    </tr>\n",
       "    <tr>\n",
       "      <td>11640</td>\n",
       "      <td>2018-06-01 00:00:00</td>\n",
       "      <td>237</td>\n",
       "    </tr>\n",
       "    <tr>\n",
       "      <td>2395</td>\n",
       "      <td>2018-06-01 00:00:00</td>\n",
       "      <td>237</td>\n",
       "    </tr>\n",
       "    <tr>\n",
       "      <td>9506</td>\n",
       "      <td>2018-06-01 00:00:00</td>\n",
       "      <td>237</td>\n",
       "    </tr>\n",
       "    <tr>\n",
       "      <td>...</td>\n",
       "      <td>...</td>\n",
       "      <td>...</td>\n",
       "    </tr>\n",
       "    <tr>\n",
       "      <td>8706170</td>\n",
       "      <td>2018-06-30 23:57:00</td>\n",
       "      <td>237</td>\n",
       "    </tr>\n",
       "    <tr>\n",
       "      <td>8706806</td>\n",
       "      <td>2018-06-30 23:57:00</td>\n",
       "      <td>237</td>\n",
       "    </tr>\n",
       "    <tr>\n",
       "      <td>8710749</td>\n",
       "      <td>2018-06-30 23:58:00</td>\n",
       "      <td>237</td>\n",
       "    </tr>\n",
       "    <tr>\n",
       "      <td>8708596</td>\n",
       "      <td>2018-06-30 23:58:00</td>\n",
       "      <td>237</td>\n",
       "    </tr>\n",
       "    <tr>\n",
       "      <td>8707769</td>\n",
       "      <td>2018-06-30 23:58:00</td>\n",
       "      <td>237</td>\n",
       "    </tr>\n",
       "  </tbody>\n",
       "</table>\n",
       "<p>356777 rows × 2 columns</p>\n",
       "</div>"
      ],
      "text/plain": [
       "        tpep_pickup_datetime  PULocationID\n",
       "534      2018-06-01 00:00:00           237\n",
       "3300     2018-06-01 00:00:00           237\n",
       "11640    2018-06-01 00:00:00           237\n",
       "2395     2018-06-01 00:00:00           237\n",
       "9506     2018-06-01 00:00:00           237\n",
       "...                      ...           ...\n",
       "8706170  2018-06-30 23:57:00           237\n",
       "8706806  2018-06-30 23:57:00           237\n",
       "8710749  2018-06-30 23:58:00           237\n",
       "8708596  2018-06-30 23:58:00           237\n",
       "8707769  2018-06-30 23:58:00           237\n",
       "\n",
       "[356777 rows x 2 columns]"
      ]
     },
     "execution_count": 588,
     "metadata": {},
     "output_type": "execute_result"
    }
   ],
   "source": [
    "from dateutil.parser import parse\n",
    "from datetime import datetime\n",
    "import numpy as np\n",
    "import pandas as pd\n",
    "newData = data[['tpep_pickup_datetime', 'PULocationID']]\n",
    "newData = newData[newData['PULocationID'] == 237]\n",
    "newData['tpep_pickup_datetime'] = newData['tpep_pickup_datetime'].map(lambda x: parse(x).strftime('%Y/%m/%d %H:%M'))\n",
    "newData = newData.sort_values(by = 'tpep_pickup_datetime', ascending = True)\n",
    "newData['tpep_pickup_datetime'] = newData['tpep_pickup_datetime'].map(lambda x: datetime.strptime(x,'%Y/%m/%d %H:%M'))\n",
    "cleaned_data = newData[(newData['tpep_pickup_datetime'] >= datetime.strptime('2018/6/1 0:0','%Y/%m/%d %H:%M'))&(newData['tpep_pickup_datetime'] < datetime.strptime('2018/7/1 0:0','%Y/%m/%d %H:%M'))]\n",
    "cleaned_data\n",
    "#37952 rows/ not consistent \n",
    "#len(newData['tpep_pickup_datetime'].value_counts())"
   ]
  },
  {
   "cell_type": "code",
   "execution_count": 589,
   "metadata": {},
   "outputs": [],
   "source": [
    "# generate time series\n",
    "test_date = pd.date_range(start='6/01/2018',end ='7/1/2018', freq='T')\n",
    "test_date = pd.DataFrame(test_date)\n",
    "test_date.rename(columns = {0:'pickup_time_g'}, inplace = True)"
   ]
  },
  {
   "cell_type": "code",
   "execution_count": 590,
   "metadata": {},
   "outputs": [],
   "source": [
    "Counted_value = cleaned_data.groupby('tpep_pickup_datetime', as_index=False).count()\n",
    "Counted_value.rename(columns={'PULocationID':'Count'}, inplace=True)\n",
    "#test_date['pickup_time_g'][1] == Counted_value['tpep_pickup_datetime'][0]\n",
    "matched_date = pd.merge(test_date, Counted_value, left_on = 'pickup_time_g', right_on = 'tpep_pickup_datetime', how = 'left')\n",
    "matched_date['Count'] = matched_date['Count'].fillna(0)\n",
    "matched_date.drop(columns=['tpep_pickup_datetime'],inplace = True)"
   ]
  },
  {
   "cell_type": "code",
   "execution_count": 591,
   "metadata": {},
   "outputs": [],
   "source": [
    "def interval_extraction(dataset, window_num):\n",
    "    Demand = pd.Series(matched_date['Count']).rolling(window = window_num).sum()\n",
    "    # check the number of null values\n",
    "    #tryit.isna().sum()\n",
    "    Demand.dropna(inplace=True)\n",
    "    Demand.reset_index(drop=True,inplace = True)\n",
    "    dataset[f'Demand_{window_num}'] = Demand\n",
    "    dataset.dropna(inplace = True)\n",
    "    return dataset"
   ]
  },
  {
   "cell_type": "code",
   "execution_count": 593,
   "metadata": {},
   "outputs": [],
   "source": [
    "Interval_15 = matched_date\n",
    "dataset_15 = interval_extraction(Interval_15, 15)\n",
    "dataset15"
   ]
  },
  {
   "cell_type": "code",
   "execution_count": 595,
   "metadata": {},
   "outputs": [],
   "source": [
    "matched_date['weekday'] = matched_date['pickup_time_g'].dt.weekday"
   ]
  },
  {
   "cell_type": "code",
   "execution_count": 596,
   "metadata": {},
   "outputs": [],
   "source": [
    "def separate_timestamp(matched_date):\n",
    "    matched_date['month'] = matched_date['pickup_time_g'].map(lambda x: x.month)\n",
    "    matched_date['hour'] = matched_date['pickup_time_g'].map(lambda x: x.hour)\n",
    "    matched_date['minute'] = matched_date['pickup_time_g'].map(lambda x: x.minute)\n",
    "    matched_date['second'] = matched_date['pickup_time_g'].map(lambda x: x.second)\n",
    "    matched_date['day'] = matched_date['pickup_time_g'].map(lambda x: x.day)\n",
    "    return matched_date"
   ]
  },
  {
   "cell_type": "code",
   "execution_count": 597,
   "metadata": {},
   "outputs": [],
   "source": [
    "matched_date = separate_timestamp(matched_date)"
   ]
  },
  {
   "cell_type": "code",
   "execution_count": 599,
   "metadata": {},
   "outputs": [],
   "source": [
    "location_name = ['Upper East Side South'] * len(matched_date)\n",
    "matched_date['location'] = Series(location_name)\n",
    "locationID = [237] * len(matched_date)\n",
    "matched_date['locationID'] = Series(locationID)"
   ]
  },
  {
   "cell_type": "code",
   "execution_count": 600,
   "metadata": {},
   "outputs": [],
   "source": [
    "final_result = matched_date[['pickup_time_g','month','day','hour','minute','Count','Demand_15','location','locationID','weekday']]"
   ]
  },
  {
   "cell_type": "code",
   "execution_count": 601,
   "metadata": {},
   "outputs": [
    {
     "name": "stderr",
     "output_type": "stream",
     "text": [
      "/Users/liuyang/opt/anaconda3/lib/python3.7/site-packages/pandas/core/frame.py:4223: SettingWithCopyWarning: \n",
      "A value is trying to be set on a copy of a slice from a DataFrame\n",
      "\n",
      "See the caveats in the documentation: http://pandas.pydata.org/pandas-docs/stable/user_guide/indexing.html#returning-a-view-versus-a-copy\n",
      "  return super().rename(**kwargs)\n"
     ]
    }
   ],
   "source": [
    "final_result.rename(columns = {'Count':'demand','Demand_15':'15minutes_demand','pickup_time_g':'tpep_pickup_datetime'},inplace = True)"
   ]
  },
  {
   "cell_type": "code",
   "execution_count": 618,
   "metadata": {},
   "outputs": [],
   "source": [
    "final_result.to_csv('/Users/liuyang/Desktop/Upper_East_Side_South.csv')"
   ]
  },
  {
   "cell_type": "code",
   "execution_count": 615,
   "metadata": {},
   "outputs": [
    {
     "data": {
      "text/plain": [
       "Int64Index([    0,     1,     2,     3,     4,     5,     6,     7,     8,\n",
       "                9,\n",
       "            ...\n",
       "            43177, 43178, 43179, 43180, 43181, 43182, 43183, 43184, 43185,\n",
       "            43186],\n",
       "           dtype='int64', length=43187)"
      ]
     },
     "execution_count": 615,
     "metadata": {},
     "output_type": "execute_result"
    }
   ],
   "source": [
    "final_result.index"
   ]
  },
  {
   "cell_type": "code",
   "execution_count": null,
   "metadata": {},
   "outputs": [],
   "source": []
  }
 ],
 "metadata": {
  "kernelspec": {
   "display_name": "Python 3",
   "language": "python",
   "name": "python3"
  },
  "language_info": {
   "codemirror_mode": {
    "name": "ipython",
    "version": 3
   },
   "file_extension": ".py",
   "mimetype": "text/x-python",
   "name": "python",
   "nbconvert_exporter": "python",
   "pygments_lexer": "ipython3",
   "version": "3.7.4"
  }
 },
 "nbformat": 4,
 "nbformat_minor": 2
}
