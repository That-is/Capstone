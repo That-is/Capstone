{
 "cells": [
  {
   "cell_type": "code",
   "execution_count": 66,
   "metadata": {
    "colab": {},
    "colab_type": "code",
    "id": "CgcrSXGBXut3"
   },
   "outputs": [],
   "source": [
    "from dateutil.parser import parse\n",
    "from datetime import datetime\n",
    "import numpy as np\n",
    "import pandas as pd\n",
    "import time"
   ]
  },
  {
   "cell_type": "code",
   "execution_count": 67,
   "metadata": {
    "colab": {},
    "colab_type": "code",
    "id": "06sWPgT-Xw1n"
   },
   "outputs": [],
   "source": [
    "data = pd.read_csv('/Users/liuyang/Desktop/cleaned_2018_08.csv')"
   ]
  },
  {
   "cell_type": "code",
   "execution_count": 70,
   "metadata": {
    "colab": {},
    "colab_type": "code",
    "id": "8TBF4uO2WvEj"
   },
   "outputs": [],
   "source": [
    "def minutes_trans(newData):\n",
    "  newData['tpep_pickup_datetime'] = newData['tpep_pickup_datetime'].map(lambda x: parse(x).strftime('%Y/%m/%d %H:%M'))\n",
    "  newData['tpep_pickup_datetime'] = newData['tpep_pickup_datetime'].map(lambda x: datetime.strptime(x,'%Y/%m/%d %H:%M'))\n",
    "  return newData"
   ]
  },
  {
   "cell_type": "code",
   "execution_count": 71,
   "metadata": {
    "colab": {},
    "colab_type": "code",
    "id": "rwPPoyjxaiow"
   },
   "outputs": [],
   "source": [
    "newData = minutes_trans(data)"
   ]
  },
  {
   "cell_type": "code",
   "execution_count": 73,
   "metadata": {
    "colab": {},
    "colab_type": "code",
    "id": "ziXPRE4MWvEn"
   },
   "outputs": [],
   "source": [
    "# generate time series\n",
    "def generate_countinous(start ='6/01/2018', end ='7/1/2018'):\n",
    "  test_date = pd.date_range(start,end, freq='T')\n",
    "  test_date = pd.DataFrame(test_date)\n",
    "  test_date.rename(columns = {0:'pickup_time_g'}, inplace = True)\n",
    "  test_date.drop([len(test_date)-1], inplace=True)\n",
    "  return test_date"
   ]
  },
  {
   "cell_type": "code",
   "execution_count": 8,
   "metadata": {
    "colab": {},
    "colab_type": "code",
    "id": "ntL4zj-4i1uh"
   },
   "outputs": [],
   "source": [
    "test_date = generate_countinous('8/01/2018','9/1/2018')"
   ]
  },
  {
   "cell_type": "code",
   "execution_count": 74,
   "metadata": {
    "colab": {},
    "colab_type": "code",
    "id": "BDl5Xqx-i2Ww"
   },
   "outputs": [],
   "source": [
    "#extract the data slice that are wanted\n",
    "#### really important stage for extraction ---- later\n",
    "def data_extract(data, number):\n",
    "  data_index = data[data['PULocationID'] == number].index.to_list()\n",
    "  newData = data.iloc[data_index,:]\n",
    "  return newData"
   ]
  },
  {
   "cell_type": "code",
   "execution_count": 0,
   "metadata": {
    "colab": {},
    "colab_type": "code",
    "id": "97YW-PRXjAwE"
   },
   "outputs": [],
   "source": [
    "cleaned_data = data_extract(newData, 237)"
   ]
  },
  {
   "cell_type": "code",
   "execution_count": 75,
   "metadata": {
    "colab": {},
    "colab_type": "code",
    "id": "-6ICgJ2JlnIA"
   },
   "outputs": [],
   "source": [
    "### try\n",
    "def minutes_accumulate(cleaned_data):\n",
    "  Counted_value = cleaned_data.groupby('tpep_pickup_datetime', as_index=False).size()\n",
    "  avg_price = cleaned_data.groupby('tpep_pickup_datetime')['total_amount'].mean()\n",
    "  avg_duration = cleaned_data.groupby('tpep_pickup_datetime')['duration'].mean()\n",
    "  new = pd.concat([Counted_value,avg_price,avg_duration], axis=1)\n",
    "  new.reset_index(inplace=True,drop=False)\n",
    "  return new\n",
    "#all(Counted_value.index == avg_price.index)"
   ]
  },
  {
   "cell_type": "code",
   "execution_count": 0,
   "metadata": {
    "colab": {},
    "colab_type": "code",
    "id": "jCpqvMTpphiM"
   },
   "outputs": [],
   "source": [
    "# merge the result and macth in minutes\n",
    "cleaned_data = minutes_accumulate(cleaned_data)\n",
    "matched_date = pd.merge(test_date, cleaned_data, left_on = 'pickup_time_g', right_on = 'tpep_pickup_datetime', how = 'left')"
   ]
  },
  {
   "cell_type": "code",
   "execution_count": 76,
   "metadata": {
    "colab": {},
    "colab_type": "code",
    "id": "xtLzgoFSp2X4"
   },
   "outputs": [],
   "source": [
    "# if there is no order at this moment, we set this value to 999\n",
    "#remove and fill in null values\n",
    "def null_value_implaint(matched_date):\n",
    "  del matched_date['tpep_pickup_datetime']\n",
    "  matched_date['total_amount'] = matched_date['total_amount'].fillna(0)\n",
    "  matched_date['duration'] = matched_date['duration'].fillna(999)\n",
    "  matched_date[0] = matched_date[0].fillna(0)\n",
    "  return matched_date"
   ]
  },
  {
   "cell_type": "code",
   "execution_count": 0,
   "metadata": {
    "colab": {},
    "colab_type": "code",
    "id": "9uhaTMYZ08D_"
   },
   "outputs": [],
   "source": [
    "matched_date = null_value_implaint(matched_date)"
   ]
  },
  {
   "cell_type": "code",
   "execution_count": 77,
   "metadata": {
    "colab": {},
    "colab_type": "code",
    "id": "lW4X7oJuWvEu"
   },
   "outputs": [],
   "source": [
    "def interval_extraction(dataset, window_num):\n",
    "    Demand = pd.Series(matched_date[0]).rolling(window = window_num).sum()\n",
    "    Avg_Price = pd.Series(matched_date['total_amount']).rolling(window = window_num).mean()\n",
    "    Avg_Duration = pd.Series(matched_date['duration']).rolling(window = window_num).mean()\n",
    "    #check the number of null values\n",
    "    #tryit.isna().sum()\n",
    "    Demand.dropna(inplace=True)\n",
    "    Avg_Price.dropna(inplace=True)\n",
    "    Avg_Duration.dropna(inplace=True)\n",
    "    Demand.reset_index(drop=True,inplace = True)\n",
    "    Avg_Price.reset_index(drop=True,inplace = True)\n",
    "    Avg_Duration.reset_index(drop=True,inplace = True)\n",
    "    cleaned_data = pd.concat([Demand,Avg_Price,Avg_Duration], axis=1)\n",
    "    cleaned_data.rename(columns={0:'Demand_15min','total_amount':'Avg_profit', 'duration':'Avg_duration'}, inplace=True)\n",
    "    new = pd.concat([dataset,cleaned_data], axis=1)\n",
    "    new.dropna(inplace=True)\n",
    "    return new"
   ]
  },
  {
   "cell_type": "code",
   "execution_count": 0,
   "metadata": {
    "colab": {},
    "colab_type": "code",
    "id": "FUVcZbTcu9bc"
   },
   "outputs": [],
   "source": [
    "new = interval_extraction(matched_date, 15)"
   ]
  },
  {
   "cell_type": "code",
   "execution_count": 78,
   "metadata": {
    "colab": {},
    "colab_type": "code",
    "id": "PzDaVqTGWvE2"
   },
   "outputs": [],
   "source": [
    "def separate_timestamp(matched_date):\n",
    "    matched_date['weekday'] = matched_date['pickup_time_g'].dt.weekday\n",
    "    matched_date['month'] = matched_date['pickup_time_g'].map(lambda x: x.month)\n",
    "    matched_date['hour'] = matched_date['pickup_time_g'].map(lambda x: x.hour)\n",
    "    matched_date['minute'] = matched_date['pickup_time_g'].map(lambda x: x.minute)\n",
    "    matched_date['second'] = matched_date['pickup_time_g'].map(lambda x: x.second)\n",
    "    matched_date['day'] = matched_date['pickup_time_g'].map(lambda x: x.day)\n",
    "    return matched_date"
   ]
  },
  {
   "cell_type": "code",
   "execution_count": 0,
   "metadata": {
    "colab": {},
    "colab_type": "code",
    "id": "xb3A-9FyWvE5"
   },
   "outputs": [],
   "source": [
    "matched_date = separate_timestamp(new)"
   ]
  },
  {
   "cell_type": "code",
   "execution_count": 79,
   "metadata": {
    "colab": {},
    "colab_type": "code",
    "id": "YRZaQmUrWvE7"
   },
   "outputs": [],
   "source": [
    "def num_attach(dataset,number):\n",
    "  locationID = [number] * len(matched_date)\n",
    "  matched_date['locationID'] = pd.Series(locationID)\n",
    "  return matched_date"
   ]
  },
  {
   "cell_type": "code",
   "execution_count": 80,
   "metadata": {
    "colab": {},
    "colab_type": "code",
    "id": "2r9UZUjq3sSZ"
   },
   "outputs": [],
   "source": [
    "a = list(newData['DOLocationID'].unique())"
   ]
  },
  {
   "cell_type": "code",
   "execution_count": 84,
   "metadata": {
    "colab": {
     "base_uri": "https://localhost:8080/",
     "height": 34
    },
    "colab_type": "code",
    "id": "7RaEg4aIzEMf",
    "outputId": "90f57b9f-11b9-4543-b8f4-e7a5ed2e7729"
   },
   "outputs": [],
   "source": [
    "# write directly \n",
    "start = time.time()\n",
    "for number in a:\n",
    "    cleaned_data = data_extract(newData, number)\n",
    "    cleaned_data = minutes_accumulate(cleaned_data)\n",
    "    matched_date = pd.merge(test_date, cleaned_data, left_on = 'pickup_time_g', right_on = 'tpep_pickup_datetime', how = 'left')\n",
    "    matched_date = null_value_implaint(matched_date)\n",
    "    new = interval_extraction(matched_date, 15)\n",
    "    matched_date = separate_timestamp(new)\n",
    "    key1 = num_attach(matched_date, number)\n",
    "    key1.to_csv(f'/Users/liuyang/Desktop/2018_08/{number}.csv')\n",
    "end = time.time()\n",
    "print(end-start)"
   ]
  }
 ],
 "metadata": {
  "colab": {
   "collapsed_sections": [],
   "name": "3months_format_transform.ipynb",
   "provenance": []
  },
  "kernelspec": {
   "display_name": "Python 3",
   "language": "python",
   "name": "python3"
  },
  "language_info": {
   "codemirror_mode": {
    "name": "ipython",
    "version": 3
   },
   "file_extension": ".py",
   "mimetype": "text/x-python",
   "name": "python",
   "nbconvert_exporter": "python",
   "pygments_lexer": "ipython3",
   "version": "3.7.4"
  }
 },
 "nbformat": 4,
 "nbformat_minor": 1
}
