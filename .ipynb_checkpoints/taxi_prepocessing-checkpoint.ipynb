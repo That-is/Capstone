{
 "cells": [
  {
   "cell_type": "code",
   "execution_count": 338,
   "metadata": {},
   "outputs": [],
   "source": [
    "#backgroup information\n",
    "'''\n",
    "Data cleaned criteria: —————————— Dataset size(6581k rows) ",
    "—————————— Always check the statistical result —————————— Subsampling 8% of data from each day of 2019 (1)check duplicates in taxi_zone dataset and consolidated taxi dataset and drop duplicates.\n",
    "\n",
    "(2)match LocationID and its name + drop columns where LocationID cannot match\n",
    "\n",
    "(3)Drop rows where ‘congestion_surcharge’ != 2.5 OR 0(Data size 6621924 -> 6621742), and keep the null value(5.7%).\n",
    "\n",
    "(4)drop rows\n",
    "\n",
    "‘fare_amount’ < 2.5\n",
    "‘extra’ < 0\n",
    "’Tip amount’ < 0 (first three columns in total filtered 2.4%)\n",
    "‘Tolls amount’ < 0 & ‘Tolls amount’ >30(177 rows)\n",
    "‘improvement_surcharge’ != 0.3 OR 0(2 rows)\n",
    "‘Trip distance’ < 0 (39997 rows -> 0.6%)\n",
    "‘Duration’ < 0 (69 rows)\n",
    "(5) Routes check(metered value outliers) Metered Route\n",
    "\n",
    "Route1: To Newark Liberty International Airport(largest: 60.98km->200.5)// <- current threshold\n",
    "Route2:from Manhattan or to Manhattan —6354285 records out of 6621482— (largest: 107.37km->308.5) <-reset current threshold Fixed price Route\n",
    "Route1: From GFK to Manhattan or from Manhattan to GFK(fixed price —— 52$——0 records)\n",
    "(6)Columns added\n",
    "\n",
    "Geo Space coordinate matching (GOOGLE API)\n",
    "‘Weekday’\n",
    "‘Duration’\n",
    "'''"
   ]
  },
  {
   "cell_type": "code",
   "execution_count": null,
   "metadata": {},
   "outputs": [],
   "source": [
    "from pandas import DataFrame, Series\n",
    "import pandas as pd\n",
    "data = pd.read_csv('/Users/liuyang/Desktop/taxi_output.csv')\n",
    "region_info = pd.read_csv('/Users/liuyang/Desktop/taxi_zones.csv')"
   ]
  },
  {
   "cell_type": "code",
   "execution_count": 339,
   "metadata": {},
   "outputs": [],
   "source": [
    "import matplotlib.pyplot as plt\n",
    "#any(region_info.duplicated('LocationID'))\n",
    "region_info.drop_duplicates('LocationID','first',inplace=True)"
   ]
  },
  {
   "cell_type": "code",
   "execution_count": 340,
   "metadata": {},
   "outputs": [],
   "source": [
    "data.drop(columns = ['PU_Zone','DO_Zone','F1','Unnamed: 0'], inplace = True)"
   ]
  },
  {
   "cell_type": "code",
   "execution_count": 341,
   "metadata": {},
   "outputs": [
    {
     "data": {
      "text/plain": [
       "Index(['Duration', 'VendorID', 'tpep_dropoff_datetime', 'passenger_count',\n",
       "       'trip_distance', 'RatecodeID', 'store_and_fwd_flag', 'PULocationID',\n",
       "       'DOLocationID', 'payment_type', 'fare_amount', 'extra', 'mta_tax',\n",
       "       'tip_amount', 'tolls_amount', 'improvement_surcharge', 'total_amount',\n",
       "       'congestion_surcharge', 'tpep_pickup_datetime_1', 'PU_weekday'],\n",
       "      dtype='object')"
      ]
     },
     "execution_count": 341,
     "metadata": {},
     "output_type": "execute_result"
    }
   ],
   "source": [
    "data.columns"
   ]
  },
  {
   "cell_type": "code",
   "execution_count": 342,
   "metadata": {},
   "outputs": [],
   "source": [
    "data.rename(columns = {'PU_weekday':'Weekday','tpep_dropoff_datetime':'dropoff_time','tpep_pickup_datetime_1':'pickup_time'}, inplace = True)\n"
   ]
  },
  {
   "cell_type": "code",
   "execution_count": 343,
   "metadata": {},
   "outputs": [
    {
     "data": {
      "text/plain": [
       "6621924"
      ]
     },
     "execution_count": 343,
     "metadata": {},
     "output_type": "execute_result"
    }
   ],
   "source": [
    "#6621924\n",
    "len(data)\n",
    "#data.describe().astype('int64')"
   ]
  },
  {
   "cell_type": "code",
   "execution_count": 344,
   "metadata": {},
   "outputs": [],
   "source": [
    "#len(region_info)\n",
    "merged_result = pd.merge(data, region_info, left_on = 'PULocationID', right_on = 'LocationID', how = 'left')"
   ]
  },
  {
   "cell_type": "code",
   "execution_count": 345,
   "metadata": {},
   "outputs": [
    {
     "data": {
      "text/plain": [
       "6621924"
      ]
     },
     "execution_count": 345,
     "metadata": {},
     "output_type": "execute_result"
    }
   ],
   "source": [
    "len(merged_result)"
   ]
  },
  {
   "cell_type": "code",
   "execution_count": 346,
   "metadata": {},
   "outputs": [],
   "source": [
    "#fare_amount = pd.Series(data['fare_amount']).sort_values()\n",
    "filtered_result = merged_result[['Duration', 'VendorID', 'dropoff_time', 'passenger_count',\n",
    "       'trip_distance', 'RatecodeID', 'store_and_fwd_flag', 'PULocationID',\n",
    "       'DOLocationID', 'payment_type', 'fare_amount', 'extra', 'mta_tax',\n",
    "       'tip_amount', 'tolls_amount', 'improvement_surcharge', 'total_amount',\n",
    "       'congestion_surcharge', 'pickup_time', 'Weekday', 'Shape_Leng', 'Shape_Area', 'zone', 'LocationID',\n",
    "       'borough']]\n",
    "filtered_result.rename(columns = {'Shape_Leng':'PULeng','Shape_Area':'PUArea','zone':'PUzone','borough':'PUborough'}, inplace = True)"
   ]
  },
  {
   "cell_type": "code",
   "execution_count": 347,
   "metadata": {},
   "outputs": [
    {
     "data": {
      "text/plain": [
       "Index(['Duration', 'VendorID', 'dropoff_time', 'passenger_count',\n",
       "       'trip_distance', 'RatecodeID', 'store_and_fwd_flag', 'PULocationID',\n",
       "       'DOLocationID', 'payment_type', 'fare_amount', 'extra', 'mta_tax',\n",
       "       'tip_amount', 'tolls_amount', 'improvement_surcharge', 'total_amount',\n",
       "       'congestion_surcharge', 'pickup_time', 'Weekday', 'PULeng', 'PUArea',\n",
       "       'PUzone', 'LocationID', 'PUborough'],\n",
       "      dtype='object')"
      ]
     },
     "execution_count": 347,
     "metadata": {},
     "output_type": "execute_result"
    }
   ],
   "source": [
    "filtered_result.columns"
   ]
  },
  {
   "cell_type": "code",
   "execution_count": 348,
   "metadata": {
    "scrolled": false
   },
   "outputs": [],
   "source": [
    "# delete the column of congestion surcharge, because 2811951 of this column equals to 0, 37 of this column equals to 2.5 \n",
    "filtered_result['congestion_surcharge'].value_counts()\n",
    "# congestion_normal -> 0.9427766163305769\n",
    "congestion_normal = len(filtered_result[(filtered_result['congestion_surcharge'] == 0)|(filtered_result['congestion_surcharge'] == 2.5)])/len(filtered_result)\n",
    "#0.05719590153847083\n",
    "congestion_null = null_value(filtered_result, 'congestion_surcharge')\n",
    "#1-congestion_null-congestion_normal\n",
    "# data to be filtered proportion -> 2.7482130952272144e-05 | data size(6621924 -> 6621742)\n",
    "#filtered_congestion_null = filtered_result['congestion_surcharge'].\n",
    "filtered_congestion = filtered_result[(filtered_result['congestion_surcharge'] == 0.75)|(filtered_result['congestion_surcharge'] == 2.75)|(filtered_result['congestion_surcharge'] == 0.50)|(filtered_result['congestion_surcharge'] == 4.50)].index\n",
    "filtered_result.drop(filtered_congestion, inplace = True)\n",
    "#len(filtered_result)\n"
   ]
  },
  {
   "cell_type": "code",
   "execution_count": 470,
   "metadata": {},
   "outputs": [
    {
     "data": {
      "text/plain": [
       "2.7484459199422773e-05"
      ]
     },
     "execution_count": 470,
     "metadata": {},
     "output_type": "execute_result"
    }
   ],
   "source": [
    "1-(6621742/6621924)"
   ]
  },
  {
   "cell_type": "code",
   "execution_count": 350,
   "metadata": {},
   "outputs": [],
   "source": [
    "#delete null value in 'zone' and 'borough' \n",
    "def null_value(dataset,feature):\n",
    "    count = list(dataset[feature].isna())\n",
    "    num = 0\n",
    "    length = len(count)\n",
    "    for i in count:\n",
    "        if i is True:\n",
    "            num += 1\n",
    "    return(num/length)"
   ]
  },
  {
   "cell_type": "code",
   "execution_count": 351,
   "metadata": {},
   "outputs": [
    {
     "data": {
      "text/plain": [
       "True"
      ]
     },
     "execution_count": 351,
     "metadata": {},
     "output_type": "execute_result"
    }
   ],
   "source": [
    "#check null value in 'zone'\n",
    "any(filtered_result['PUzone'].isna())\n",
    "#filtered_result.columns\n",
    "#len(data)"
   ]
  },
  {
   "cell_type": "code",
   "execution_count": 352,
   "metadata": {},
   "outputs": [
    {
     "name": "stderr",
     "output_type": "stream",
     "text": [
      "/Users/liuyang/opt/anaconda3/lib/python3.7/site-packages/ipykernel_launcher.py:2: SettingWithCopyWarning: \n",
      "A value is trying to be set on a copy of a slice from a DataFrame.\n",
      "Try using .loc[row_indexer,col_indexer] = value instead\n",
      "\n",
      "See the caveats in the documentation: http://pandas.pydata.org/pandas-docs/stable/user_guide/indexing.html#returning-a-view-versus-a-copy\n",
      "  \n"
     ]
    }
   ],
   "source": [
    "def filter_null_zone(dataset, feature):\n",
    "    dataset[feature] = dataset[feature].fillna('999')\n",
    "    number = dataset[dataset[feature] == '999'].index.tolist()\n",
    "    dataset = dataset.drop(number)\n",
    "    return dataset\n",
    "#dataset 6621924 -> 6621716\n",
    "filtered_result= filter_null_zone(filtered_result,'PUzone')"
   ]
  },
  {
   "cell_type": "code",
   "execution_count": 353,
   "metadata": {},
   "outputs": [],
   "source": [
    "merged = pd.merge(filtered_result, region_info, left_on = 'DOLocationID', right_on = 'LocationID', how = 'left')"
   ]
  },
  {
   "cell_type": "code",
   "execution_count": 354,
   "metadata": {},
   "outputs": [
    {
     "data": {
      "text/plain": [
       "Index(['Duration', 'VendorID', 'dropoff_time', 'passenger_count',\n",
       "       'trip_distance', 'RatecodeID', 'store_and_fwd_flag', 'PULocationID',\n",
       "       'DOLocationID', 'payment_type', 'fare_amount', 'extra', 'mta_tax',\n",
       "       'tip_amount', 'tolls_amount', 'improvement_surcharge', 'total_amount',\n",
       "       'congestion_surcharge', 'pickup_time', 'Weekday', 'PULeng', 'PUArea',\n",
       "       'PUzone', 'LocationID_x', 'PUborough', 'Unnamed: 0', 'OBJECTID',\n",
       "       'Shape_Leng', 'Shape_Area', 'zone', 'LocationID_y', 'borough'],\n",
       "      dtype='object')"
      ]
     },
     "execution_count": 354,
     "metadata": {},
     "output_type": "execute_result"
    }
   ],
   "source": [
    "merged.columns"
   ]
  },
  {
   "cell_type": "code",
   "execution_count": 355,
   "metadata": {},
   "outputs": [],
   "source": [
    "merged = merged[['VendorID', 'pickup_time', 'dropoff_time', 'passenger_count',\n",
    "       'trip_distance', 'RatecodeID', 'store_and_fwd_flag', 'PULocationID',\n",
    "       'DOLocationID', 'payment_type', 'fare_amount', 'extra', 'mta_tax',\n",
    "       'tip_amount', 'tolls_amount', 'improvement_surcharge', 'total_amount',\n",
    "       'congestion_surcharge', 'PULeng', 'PUArea', 'PUzone', 'PUborough',\n",
    "       'Duration', 'Weekday', 'Shape_Leng',\n",
    "       'Shape_Area', 'zone', 'borough']]"
   ]
  },
  {
   "cell_type": "code",
   "execution_count": 356,
   "metadata": {},
   "outputs": [],
   "source": [
    "#remove 3.501984583720451e-05% data which contains null value in zone and borough\n",
    "#print(null_value(merged,'zone'))\n",
    "merged.rename(columns = {'Shape_Leng':'DOLeng','Shape_Area':'DOArea','zone':'DOzone','borough':'DOborough'},inplace = True)\n"
   ]
  },
  {
   "cell_type": "code",
   "execution_count": 357,
   "metadata": {},
   "outputs": [],
   "source": [
    "#6621716 -> 6621484\n",
    "filtered_result = filter_null_zone(merged,'DOzone')"
   ]
  },
  {
   "cell_type": "code",
   "execution_count": 359,
   "metadata": {},
   "outputs": [],
   "source": [
    "#unormal data in fare_amount: propotion = 0.0034431858477646403\n",
    "#len(list(filtered_result[filtered_result['fare_amount'] <= 2.5].index))/len(filtered_result)\n",
    "#filtered_data.describe().astype('int64')\n",
    "filtered_data = filtered_result"
   ]
  },
  {
   "cell_type": "code",
   "execution_count": 360,
   "metadata": {},
   "outputs": [],
   "source": [
    "#[fare_amount]\n",
    "#(6621484 -> 6621484)\n",
    "#filter fare_amount less than 2.5(initial charge) --- 0.0012360546269591412\n",
    "len(filtered_data[filtered_data['fare_amount'] < 2.5].index)/len(filtered_data)\n",
    "fare_index = filtered_data[filtered_data['fare_amount'] < 2.5].index\n",
    "filtered_data = filtered_data.drop(fare_index)\n",
    "# [extra]\n",
    "#size of data(6621484 -> 6621484)\n",
    "fare_index_extra = filtered_data[filtered_data['extra'] < 0].index\n",
    "filtered_data = filtered_data.drop(fare_index_extra)\n",
    "#[tolls_amount]\n",
    "#size of data(6621484 -> 6621484)\n",
    "fare_index_tolls = filtered_data[filtered_data['tolls_amount'] < 0].index\n",
    "filtered_data = filtered_data.drop(fare_index_tolls)\n",
    "#[tip_amount]\n",
    "#size of data(6621484 -> 6621484)\n",
    "fare_index_tip = filtered_data[filtered_data['tip_amount'] < 0].index\n",
    "filtered_data = filtered_data.drop(fare_index_tip)\n",
    "# check unnormal value (>75 -> 0.008045628442204194)\n",
    "filtered_data['total_amount'].sort_values()\n",
    "#[improvement_surcharge]\n",
    "#value distribution (0.3:6620472, 0.0:1010, 0.03:2)\n",
    "#filtered the only value where improvement_surcharge = 0.03 <- outlier\n",
    "#size of data(6621484 -> 6621482)\n",
    "filtered_data['improvement_surcharge'].value_counts()\n",
    "filtered_data_improvement = filtered_data[filtered_data['improvement_surcharge'] == 0.03].index\n",
    "filtered_data = filtered_data.drop(filtered_data_improvement)"
   ]
  },
  {
   "cell_type": "code",
   "execution_count": 361,
   "metadata": {},
   "outputs": [
    {
     "data": {
      "text/plain": [
       "0.0010046089379990763"
      ]
     },
     "execution_count": 361,
     "metadata": {},
     "output_type": "execute_result"
    }
   ],
   "source": [
    "filtered_data['fare_amount'].sort_values()\n",
    "# proportion of fare_amount <= 52  -> 0.9928807478446668\n",
    "len(filtered_data[filtered_data['fare_amount']<=52].index.tolist())/len(filtered_data)\n",
    "#proportion of abnormal data = fare_amount >75 -> 0.0010046089379990763\n",
    "len(filtered_data[filtered_data['fare_amount']> 75].index.tolist())/len(filtered_data)"
   ]
  },
  {
   "cell_type": "code",
   "execution_count": 196,
   "metadata": {},
   "outputs": [],
   "source": [
    "#write to csv file\n",
    "filtered_data['fare_amount'].to_csv('/Users/liuyang/Desktop/fare_amount.csv',header=True, index=True, index_label='index')"
   ]
  },
  {
   "cell_type": "code",
   "execution_count": 328,
   "metadata": {},
   "outputs": [
    {
     "data": {
      "text/plain": [
       "6621482"
      ]
     },
     "execution_count": 328,
     "metadata": {},
     "output_type": "execute_result"
    }
   ],
   "source": [
    "len(filtered_data)"
   ]
  },
  {
   "cell_type": "code",
   "execution_count": 363,
   "metadata": {},
   "outputs": [],
   "source": [
    "#largest value:to Newark Liberty International Airport <- 60.98km \n",
    "#find the largest distance -> price:200.5\n",
    "filtered_data[filtered_data['DOzone'] == 'Newark Airport'].trip_distance.sort_values(ascending=False)\n",
    "Max_price_by_meter = filtered_data[filtered_data['trip_distance'] == 60.98]['fare_amount']\n",
    "#len(filtered_data[filtered_data['fare_amount']> 200.5].index.tolist())/len(filtered_data)\n",
    "\n",
    "# passenger from GFK to Manhattan or from Manhattan to GFK  ---- 0 records\n",
    "Manhattan_GFK = filtered_data[((filtered_data['DOborough'] == 'Manhattan')&(filtered_data['PUzone'] == 'GFK'))|((filtered_data['PUborough'] == 'Manhattan')&(filtered_data['DOzone'] == 'GFK'))]\n",
    "#from Manhattan or to Manhattan --- 6354285 records out of 6621482(take up the majority of the data)\n",
    "Manhattan_Newyork = filtered_data[(filtered_data['DOborough'] == 'Manhattan') | (filtered_data['PUborough'] == 'Manhattan')]\n",
    "#find largest value from GFK to other new york city except Manhattan ----- except method\n"
   ]
  },
  {
   "cell_type": "code",
   "execution_count": 364,
   "metadata": {},
   "outputs": [],
   "source": [
    "\n",
    "# run of of memory below\n",
    "#Manhattan_allCountries = pd.merge(Manhattan_Newyork, Manhattan_GFK, left_on = 'tpep_pickup_datetime', right_on = 'tpep_pickup_datetime', how='left') ---- run out of memory\n",
    "#try_data = Manhattan_allcountries['fare_amount_y'].isna().index ----- run out of memory\n",
    "#Manhattan_allcountries.iloc[try_data] ---- run out of memory\n",
    "Manhattan_otherCountries = Manhattan_Newyork\n"
   ]
  },
  {
   "cell_type": "code",
   "execution_count": 365,
   "metadata": {
    "scrolled": true
   },
   "outputs": [
    {
     "data": {
      "text/plain": [
       "5087253    308.5\n",
       "Name: fare_amount, dtype: float64"
      ]
     },
     "execution_count": 365,
     "metadata": {},
     "output_type": "execute_result"
    }
   ],
   "source": [
    "Manhattan_otherCountries['trip_distance'].sort_values(ascending=False)\n",
    "#largest value 107.37 <- from manhattan to manhattan (59.5 square kms) \n",
    "#largest fare_amount <- 308.5(threshold)\n",
    "Manhattan_otherCountries[Manhattan_otherCountries['trip_distance'] == 107.37]['fare_amount']"
   ]
  },
  {
   "cell_type": "code",
   "execution_count": 368,
   "metadata": {},
   "outputs": [],
   "source": [
    "#6621482 -> 6621425\n",
    "fare_amount = filtered_data[filtered_data['fare_amount'] > 308.5].index\n",
    "filtered_data = filtered_data.drop(fare_amount)"
   ]
  },
  {
   "cell_type": "code",
   "execution_count": 378,
   "metadata": {},
   "outputs": [],
   "source": [
    "#data size 6621425 -> 6581428\n",
    "#trip_distance <= 0 (0.6%) removal\n",
    "trip_distance = filtered_data[(filtered_data['trip_distance'] <= 0)].index\n",
    "filtered_data = filtered_data.drop(trip_distance)"
   ]
  },
  {
   "cell_type": "code",
   "execution_count": 471,
   "metadata": {},
   "outputs": [
    {
     "data": {
      "text/plain": [
       "39997"
      ]
     },
     "execution_count": 471,
     "metadata": {},
     "output_type": "execute_result"
    }
   ],
   "source": [
    "6621425- 6581428"
   ]
  },
  {
   "cell_type": "code",
   "execution_count": 390,
   "metadata": {},
   "outputs": [],
   "source": [
    "#tolls_amount > 30 ------> 177 rows\n",
    "#data size 6581428 ------> 6581251\n",
    "tolls_amount = filtered_data[(filtered_data['tolls_amount'] > 30)].index\n",
    "filtered_data = filtered_data.drop(tolls_amount)"
   ]
  },
  {
   "cell_type": "code",
   "execution_count": 394,
   "metadata": {},
   "outputs": [],
   "source": [
    "#duration < 0 ---- 69 row\n",
    "#data size 6581251 -> 6581182\n",
    "duration = filtered_data[(filtered_data['Duration'] < 0)].index\n",
    "filtered_data = filtered_data.drop(duration)"
   ]
  },
  {
   "cell_type": "code",
   "execution_count": 398,
   "metadata": {},
   "outputs": [],
   "source": [
    "# without delete row congestion\n",
    "filtered_data.to_csv('/Users/liuyang/Desktop/taxi_raw.csv',header=True, index=True, index_label='index')"
   ]
  },
  {
   "cell_type": "code",
   "execution_count": 406,
   "metadata": {},
   "outputs": [],
   "source": [
    "test_data = pd.read_csv('/Users/liuyang/Desktop/taxi_raw.csv')"
   ]
  },
  {
   "cell_type": "code",
   "execution_count": 415,
   "metadata": {},
   "outputs": [
    {
     "data": {
      "text/plain": [
       "Index(['index', 'VendorID', 'pickup_time', 'dropoff_time', 'passenger_count',\n",
       "       'trip_distance', 'RatecodeID', 'store_and_fwd_flag', 'PULocationID',\n",
       "       'DOLocationID', 'payment_type', 'fare_amount', 'extra', 'mta_tax',\n",
       "       'tip_amount', 'tolls_amount', 'improvement_surcharge', 'total_amount',\n",
       "       'congestion_surcharge', 'PULeng', 'PUArea', 'PUzone', 'PUborough',\n",
       "       'Duration', 'Weekday', 'DOLeng', 'DOArea', 'DOzone', 'DOborough'],\n",
       "      dtype='object')"
      ]
     },
     "execution_count": 415,
     "metadata": {},
     "output_type": "execute_result"
    }
   ],
   "source": [
    "test_data.columns"
   ]
  },
  {
   "cell_type": "code",
   "execution_count": 416,
   "metadata": {},
   "outputs": [],
   "source": [
    "test_data.drop(columns = ['payment_type','extra', 'mta_tax',\n",
    "       'tip_amount', 'tolls_amount','improvement_surcharge','congestion_surcharge','PULeng','PUArea','DOLeng','DOArea'], inplace = True)"
   ]
  },
  {
   "cell_type": "code",
   "execution_count": 420,
   "metadata": {},
   "outputs": [],
   "source": [
    "test_data.drop(columns = ['index'], inplace = True)"
   ]
  },
  {
   "cell_type": "code",
   "execution_count": 422,
   "metadata": {},
   "outputs": [],
   "source": [
    "test_data.to_csv('/Users/liuyang/Desktop/taxi.csv',header=True, index=True, index_label='index')"
   ]
  },
  {
   "cell_type": "code",
   "execution_count": null,
   "metadata": {},
   "outputs": [],
   "source": [
    "from dbfread import DBF\n",
    "import csv\n",
    "from pandas import DataFrame, Series\n",
    "import pandas as pd\n",
    "# transform taxi_zone to csv\n",
    "table = DBF('/Users/liuyang/Desktop/taxi_zones.dbf')\n",
    "df = pd.DataFrame(iter(table))\n",
    "df.to_csv('/Users/liuyang/Desktop/taxi_zones.csv')\n"
   ]
  },
  {
   "cell_type": "code",
   "execution_count": 424,
   "metadata": {},
   "outputs": [],
   "source": [
    "taxi_zones = pd.read_csv('/Users/liuyang/Desktop/taxi_zone_geodata.csv')\n"
   ]
  },
  {
   "cell_type": "code",
   "execution_count": 428,
   "metadata": {},
   "outputs": [
    {
     "data": {
      "text/plain": [
       "263"
      ]
     },
     "execution_count": 428,
     "metadata": {},
     "output_type": "execute_result"
    }
   ],
   "source": [
    "any(taxi_zones['LocationID'].duplicated())\n",
    "len(taxi_zones)"
   ]
  },
  {
   "cell_type": "code",
   "execution_count": 429,
   "metadata": {},
   "outputs": [],
   "source": [
    "taxi_zones.drop_duplicates('LocationID','first',inplace=True)\n",
    "len(taxi_zones)"
   ]
  },
  {
   "cell_type": "code",
   "execution_count": 465,
   "metadata": {},
   "outputs": [
    {
     "data": {
      "text/plain": [
       "Index(['Unnamed: 0', 'OBJECTID', 'Shape_Leng', 'Shape_Area', 'zone',\n",
       "       'LocationID', 'borough', 'geoData', 'formattedAddress', 'longitude',\n",
       "       'latitude'],\n",
       "      dtype='object')"
      ]
     },
     "execution_count": 465,
     "metadata": {},
     "output_type": "execute_result"
    }
   ],
   "source": [
    "#taxi_zones.to_csv('Cleaned_Geodata.csv', header=True, index=True, index_label='index')\n",
    "taxi_zones.columns"
   ]
  },
  {
   "cell_type": "code",
   "execution_count": 451,
   "metadata": {},
   "outputs": [],
   "source": [
    "#Geo code matching\n",
    "data = pd.read_csv('/Users/liuyang/Desktop/capstone_dataset/taxi.csv')"
   ]
  },
  {
   "cell_type": "code",
   "execution_count": 438,
   "metadata": {},
   "outputs": [
    {
     "data": {
      "text/html": [
       "<div>\n",
       "<style scoped>\n",
       "    .dataframe tbody tr th:only-of-type {\n",
       "        vertical-align: middle;\n",
       "    }\n",
       "\n",
       "    .dataframe tbody tr th {\n",
       "        vertical-align: top;\n",
       "    }\n",
       "\n",
       "    .dataframe thead th {\n",
       "        text-align: right;\n",
       "    }\n",
       "</style>\n",
       "<table border=\"1\" class=\"dataframe\">\n",
       "  <thead>\n",
       "    <tr style=\"text-align: right;\">\n",
       "      <th></th>\n",
       "      <th>index</th>\n",
       "      <th>VendorID</th>\n",
       "      <th>passenger_count</th>\n",
       "      <th>trip_distance</th>\n",
       "      <th>RatecodeID</th>\n",
       "      <th>PULocationID</th>\n",
       "      <th>DOLocationID</th>\n",
       "      <th>fare_amount</th>\n",
       "      <th>total_amount</th>\n",
       "      <th>Duration</th>\n",
       "      <th>Weekday</th>\n",
       "    </tr>\n",
       "  </thead>\n",
       "  <tbody>\n",
       "    <tr>\n",
       "      <td>count</td>\n",
       "      <td>6581182</td>\n",
       "      <td>6581182</td>\n",
       "      <td>6581182</td>\n",
       "      <td>6581182</td>\n",
       "      <td>6581182</td>\n",
       "      <td>6581182</td>\n",
       "      <td>6581182</td>\n",
       "      <td>6581182</td>\n",
       "      <td>6581182</td>\n",
       "      <td>6581182</td>\n",
       "      <td>6581182</td>\n",
       "    </tr>\n",
       "    <tr>\n",
       "      <td>mean</td>\n",
       "      <td>3290590</td>\n",
       "      <td>1</td>\n",
       "      <td>1</td>\n",
       "      <td>2</td>\n",
       "      <td>1</td>\n",
       "      <td>162</td>\n",
       "      <td>160</td>\n",
       "      <td>12</td>\n",
       "      <td>18</td>\n",
       "      <td>17</td>\n",
       "      <td>2</td>\n",
       "    </tr>\n",
       "    <tr>\n",
       "      <td>std</td>\n",
       "      <td>1899823</td>\n",
       "      <td>0</td>\n",
       "      <td>1</td>\n",
       "      <td>3</td>\n",
       "      <td>0</td>\n",
       "      <td>65</td>\n",
       "      <td>69</td>\n",
       "      <td>10</td>\n",
       "      <td>13</td>\n",
       "      <td>71</td>\n",
       "      <td>1</td>\n",
       "    </tr>\n",
       "    <tr>\n",
       "      <td>min</td>\n",
       "      <td>0</td>\n",
       "      <td>1</td>\n",
       "      <td>0</td>\n",
       "      <td>0</td>\n",
       "      <td>1</td>\n",
       "      <td>1</td>\n",
       "      <td>1</td>\n",
       "      <td>2</td>\n",
       "      <td>2</td>\n",
       "      <td>0</td>\n",
       "      <td>0</td>\n",
       "    </tr>\n",
       "    <tr>\n",
       "      <td>25%</td>\n",
       "      <td>1645295</td>\n",
       "      <td>1</td>\n",
       "      <td>1</td>\n",
       "      <td>1</td>\n",
       "      <td>1</td>\n",
       "      <td>114</td>\n",
       "      <td>107</td>\n",
       "      <td>6</td>\n",
       "      <td>11</td>\n",
       "      <td>7</td>\n",
       "      <td>1</td>\n",
       "    </tr>\n",
       "    <tr>\n",
       "      <td>50%</td>\n",
       "      <td>3290590</td>\n",
       "      <td>2</td>\n",
       "      <td>1</td>\n",
       "      <td>1</td>\n",
       "      <td>1</td>\n",
       "      <td>162</td>\n",
       "      <td>162</td>\n",
       "      <td>9</td>\n",
       "      <td>14</td>\n",
       "      <td>11</td>\n",
       "      <td>3</td>\n",
       "    </tr>\n",
       "    <tr>\n",
       "      <td>75%</td>\n",
       "      <td>4935885</td>\n",
       "      <td>2</td>\n",
       "      <td>2</td>\n",
       "      <td>3</td>\n",
       "      <td>1</td>\n",
       "      <td>233</td>\n",
       "      <td>233</td>\n",
       "      <td>14</td>\n",
       "      <td>20</td>\n",
       "      <td>19</td>\n",
       "      <td>5</td>\n",
       "    </tr>\n",
       "    <tr>\n",
       "      <td>max</td>\n",
       "      <td>6581181</td>\n",
       "      <td>4</td>\n",
       "      <td>9</td>\n",
       "      <td>107</td>\n",
       "      <td>6</td>\n",
       "      <td>263</td>\n",
       "      <td>263</td>\n",
       "      <td>308</td>\n",
       "      <td>534</td>\n",
       "      <td>27454</td>\n",
       "      <td>6</td>\n",
       "    </tr>\n",
       "  </tbody>\n",
       "</table>\n",
       "</div>"
      ],
      "text/plain": [
       "         index  VendorID  passenger_count  trip_distance  RatecodeID  \\\n",
       "count  6581182   6581182          6581182        6581182     6581182   \n",
       "mean   3290590         1                1              2           1   \n",
       "std    1899823         0                1              3           0   \n",
       "min          0         1                0              0           1   \n",
       "25%    1645295         1                1              1           1   \n",
       "50%    3290590         2                1              1           1   \n",
       "75%    4935885         2                2              3           1   \n",
       "max    6581181         4                9            107           6   \n",
       "\n",
       "       PULocationID  DOLocationID  fare_amount  total_amount  Duration  \\\n",
       "count       6581182       6581182      6581182       6581182   6581182   \n",
       "mean            162           160           12            18        17   \n",
       "std              65            69           10            13        71   \n",
       "min               1             1            2             2         0   \n",
       "25%             114           107            6            11         7   \n",
       "50%             162           162            9            14        11   \n",
       "75%             233           233           14            20        19   \n",
       "max             263           263          308           534     27454   \n",
       "\n",
       "       Weekday  \n",
       "count  6581182  \n",
       "mean         2  \n",
       "std          1  \n",
       "min          0  \n",
       "25%          1  \n",
       "50%          3  \n",
       "75%          5  \n",
       "max          6  "
      ]
     },
     "execution_count": 438,
     "metadata": {},
     "output_type": "execute_result"
    }
   ],
   "source": [
    "data.describe().astype('int64')"
   ]
  },
  {
   "cell_type": "code",
   "execution_count": 452,
   "metadata": {},
   "outputs": [],
   "source": [
    "merged_result = pd.merge(data, taxi_zones, left_on = 'PULocationID', right_on = 'LocationID', how = 'left')"
   ]
  },
  {
   "cell_type": "code",
   "execution_count": 453,
   "metadata": {},
   "outputs": [
    {
     "data": {
      "text/plain": [
       "Index(['index', 'VendorID', 'pickup_time', 'dropoff_time', 'passenger_count',\n",
       "       'trip_distance', 'RatecodeID', 'PULocationID', 'DOLocationID',\n",
       "       'fare_amount', 'total_amount', 'PUzone', 'PUborough', 'Duration',\n",
       "       'Weekday', 'DOzone', 'DOborough', 'Unnamed: 0', 'OBJECTID',\n",
       "       'Shape_Leng', 'Shape_Area', 'zone', 'LocationID', 'borough', 'geoData',\n",
       "       'formattedAddress', 'longitude', 'latitude'],\n",
       "      dtype='object')"
      ]
     },
     "execution_count": 453,
     "metadata": {},
     "output_type": "execute_result"
    }
   ],
   "source": [
    "#6581182\n",
    "merged_result.columns"
   ]
  },
  {
   "cell_type": "code",
   "execution_count": 454,
   "metadata": {},
   "outputs": [],
   "source": [
    "merged_result.drop(columns = ['Unnamed: 0', 'OBJECTID',\n",
    "       'Shape_Leng', 'Shape_Area', 'zone', 'LocationID', 'borough', 'geoData',\n",
    "       'formattedAddress'], inplace = True)"
   ]
  },
  {
   "cell_type": "code",
   "execution_count": 455,
   "metadata": {},
   "outputs": [
    {
     "data": {
      "text/plain": [
       "Index(['index', 'VendorID', 'pickup_time', 'dropoff_time', 'passenger_count',\n",
       "       'trip_distance', 'RatecodeID', 'PULocationID', 'DOLocationID',\n",
       "       'fare_amount', 'total_amount', 'PUzone', 'PUborough', 'Duration',\n",
       "       'Weekday', 'DOzone', 'DOborough', 'longitude', 'latitude'],\n",
       "      dtype='object')"
      ]
     },
     "execution_count": 455,
     "metadata": {},
     "output_type": "execute_result"
    }
   ],
   "source": [
    "merged_result.columns"
   ]
  },
  {
   "cell_type": "code",
   "execution_count": 456,
   "metadata": {},
   "outputs": [],
   "source": [
    "merged_result.rename(columns = {'longitude':'DOlongitude','latitude':'DOlatitude'}, inplace = True)"
   ]
  },
  {
   "cell_type": "code",
   "execution_count": 457,
   "metadata": {},
   "outputs": [],
   "source": [
    "merged_result = pd.merge(merged_result, taxi_zones, left_on = 'DOLocationID', right_on = 'LocationID', how = 'left')"
   ]
  },
  {
   "cell_type": "code",
   "execution_count": 458,
   "metadata": {},
   "outputs": [
    {
     "data": {
      "text/plain": [
       "Index(['index', 'VendorID', 'pickup_time', 'dropoff_time', 'passenger_count',\n",
       "       'trip_distance', 'RatecodeID', 'PULocationID', 'DOLocationID',\n",
       "       'fare_amount', 'total_amount', 'PUzone', 'PUborough', 'Duration',\n",
       "       'Weekday', 'DOzone', 'DOborough', 'DOlongitude', 'DOlatitude',\n",
       "       'Unnamed: 0', 'OBJECTID', 'Shape_Leng', 'Shape_Area', 'zone',\n",
       "       'LocationID', 'borough', 'geoData', 'formattedAddress', 'longitude',\n",
       "       'latitude'],\n",
       "      dtype='object')"
      ]
     },
     "execution_count": 458,
     "metadata": {},
     "output_type": "execute_result"
    }
   ],
   "source": [
    "merged_result.columns"
   ]
  },
  {
   "cell_type": "code",
   "execution_count": 459,
   "metadata": {},
   "outputs": [],
   "source": [
    "merged_result.drop(columns = ['Unnamed: 0', 'OBJECTID', 'Shape_Leng', 'Shape_Area', 'zone',\n",
    "       'LocationID', 'borough', 'geoData', 'formattedAddress'], inplace = True)"
   ]
  },
  {
   "cell_type": "code",
   "execution_count": 462,
   "metadata": {},
   "outputs": [
    {
     "data": {
      "text/plain": [
       "Index(['index', 'VendorID', 'pickup_time', 'dropoff_time', 'passenger_count',\n",
       "       'trip_distance', 'RatecodeID', 'PULocationID', 'DOLocationID',\n",
       "       'fare_amount', 'total_amount', 'PUzone', 'PUborough', 'Duration',\n",
       "       'Weekday', 'DOzone', 'DOborough', 'PUlongitude', 'PUlatitude',\n",
       "       'longitude', 'latitude'],\n",
       "      dtype='object')"
      ]
     },
     "execution_count": 462,
     "metadata": {},
     "output_type": "execute_result"
    }
   ],
   "source": [
    "merged_result.columns"
   ]
  },
  {
   "cell_type": "code",
   "execution_count": 463,
   "metadata": {},
   "outputs": [],
   "source": [
    "#merged_result.rename(columns = {'DOlongitude':'PUlongitude','DOlatitude':'PUlatitude'}, inplace = True)\n",
    "merged_result.rename(columns = {'longitude':'DOlongitude','latitude':'DOlatitude'}, inplace = True)"
   ]
  },
  {
   "cell_type": "code",
   "execution_count": 478,
   "metadata": {},
   "outputs": [
    {
     "data": {
      "text/plain": [
       "<bound method IndexOpsMixin.tolist of Index(['VendorID', 'pickup_time', 'dropoff_time', 'passenger_count',\n",
       "       'trip_distance', 'RatecodeID', 'PULocationID', 'DOLocationID',\n",
       "       'fare_amount', 'total_amount', 'PUzone', 'PUborough', 'Duration',\n",
       "       'Weekday', 'DOzone', 'DOborough', 'PUlongitude', 'PUlatitude',\n",
       "       'DOlongitude', 'DOlatitude'],\n",
       "      dtype='object')>"
      ]
     },
     "execution_count": 478,
     "metadata": {},
     "output_type": "execute_result"
    }
   ],
   "source": [
    "#merged_result.drop(columns = ['index'],inplace = True)\n",
    "merged_result.columns.to_list"
   ]
  },
  {
   "cell_type": "code",
   "execution_count": 468,
   "metadata": {},
   "outputs": [],
   "source": [
    "merged_result.to_csv('Geo_Cleaned_Lesscolumn.csv', header=True, index=True, index_label='index')"
   ]
  },
  {
   "cell_type": "code",
   "execution_count": null,
   "metadata": {},
   "outputs": [],
   "source": [
    " 'VendorID' ---> data provider\n",
    " 'pickup_time'\n",
    " 'dropoff_time'\n",
    " 'passenger_count'\n",
    " 'trip_distance'\n",
    " 'RatecodeID' ---> payment rate(1-6)\n",
    " 'PULocationID' ---> pickup locationID(1-260)\n",
    " 'DOLocationID' ---> dropoff locationID(1-260)\n",
    " 'fare_amount' ---> meter showed payment\n",
    " 'total_amount' ---> fare_amount + different kinds of surcharge\n",
    " 'PUzone' ---> pickup zone\n",
    " 'PUborough' ---> pickup borough\n",
    "                 (Manhattan, Queens, Brooklyn, Bronx, Staten Island, EWR)\n",
    " 'Duration' ---> minutes\n",
    " 'Weekday' ---> 0 for Monday and 6 for Saturday(0-6)\n",
    " 'DOzone' ---> dropoff zone\n",
    " 'DOborough' ---> dropoff borough\n",
    " 'PUlongitude' ---> pickup longitude\n",
    " 'PUlatitude' ---> pickup latitude\n",
    " 'DOlongitude' ---> dropoff longitude\n",
    " 'DOlatitude' ---> drpoff latitude\n",
    "      "
   ]
  },
  {
   "cell_type": "code",
   "execution_count": 482,
   "metadata": {},
   "outputs": [
    {
     "data": {
      "text/plain": [
       "6581182"
      ]
     },
     "execution_count": 482,
     "metadata": {},
     "output_type": "execute_result"
    }
   ],
   "source": [
    "len(merged_result)"
   ]
  },
  {
   "cell_type": "code",
   "execution_count": null,
   "metadata": {},
   "outputs": [],
   "source": []
  }
 ],
 "metadata": {
  "kernelspec": {
   "display_name": "Python 3",
   "language": "python",
   "name": "python3"
  },
  "language_info": {
   "codemirror_mode": {
    "name": "ipython",
    "version": 3
   },
   "file_extension": ".py",
   "mimetype": "text/x-python",
   "name": "python",
   "nbconvert_exporter": "python",
   "pygments_lexer": "ipython3",
   "version": "3.7.4"
  }
 },
 "nbformat": 4,
 "nbformat_minor": 2
}
